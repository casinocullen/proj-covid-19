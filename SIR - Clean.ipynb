{
 "cells": [
  {
   "cell_type": "code",
   "execution_count": 1,
   "metadata": {},
   "outputs": [],
   "source": [
    "import pandas as pd\n",
    "import numpy as np\n",
    "import matplotlib.pyplot as plt\n",
    "from scipy import integrate, optimize\n",
    "pd.set_option('display.max_rows', 200)\n",
    "\n",
    "def postgres_conn(schema):\n",
    "    import psycopg2\n",
    "    \n",
    "    list_cori_schema = ['coririsi_layer', 'coririsi_source', 'coririsi_public', 'coririsi_geo', 'coririsi_analysis', 'coririsi_temp']\n",
    "    \n",
    "    if schema in list_cori_schema:\n",
    "        if schema == 'coririsi_layer':\n",
    "            conn_opition = '-c search_path=sch_layer'\n",
    "        elif schema == 'coririsi_source':\n",
    "              conn_opition = '-c search_path=sch_source'\n",
    "        elif schema == 'coririsi_public':\n",
    "              conn_opition = '-c search_path=public'\n",
    "        elif schema == 'coririsi_analysis':\n",
    "              conn_opition = '-c search_path=sch_analysis'\n",
    "        elif schema == 'coririsi_temp':\n",
    "              conn_opition = '-c search_path=sch_temp'\n",
    "        elif schema == 'coririsi_geo':\n",
    "              conn_opition = '-c search_path=sch_census_tiger'\n",
    "    else:\n",
    "        raise KeyError(\"Unrecognized postgres schema. Please choose from \" + str(list_cori_schema).strip('[]'))\n",
    "        \n",
    "\n",
    "    try:\n",
    "        conn = psycopg2.connect(dbname='data',\n",
    "                                user='risi_fanniemae',\n",
    "                                host='cori-risi.c6zaibvi9wyg.us-east-1.rds.amazonaws.com', \n",
    "                                password='85h!M1az%6sR#s2Z2$5DueCJ4PuJbI',\n",
    "                                options =  conn_opition)\n",
    "    except:\n",
    "        print(\"I am unable to connect to the database\")\n",
    "\n",
    "    return conn\n",
    "\n",
    "\n"
   ]
  },
  {
   "cell_type": "code",
   "execution_count": 2,
   "metadata": {},
   "outputs": [],
   "source": [
    "def sir_model(y, x, beta, gamma):\n",
    "    dsdt = -beta * y[0] * y[1] / N\n",
    "    drdt = gamma * y[1]\n",
    "    didt = beta * y[0] * y[1] / N - gamma * y[1]\n",
    "    return dsdt, didt, drdt\n",
    "\n",
    "def fit_odeint(x, beta, gamma):\n",
    "    return integrate.odeint(sir_model, (sus0, inf0, rec0), x, args=(beta, gamma))[:,1]\n",
    "\n"
   ]
  },
  {
   "cell_type": "code",
   "execution_count": null,
   "metadata": {},
   "outputs": [],
   "source": [
    "conn = postgres_conn(\"coririsi_layer\")\n",
    "\n",
    "covid_select_Query = \"select * from covid_19_county_long\"\n",
    "x_covid_time = pd.read_sql_query(covid_select_Query, conn)\n",
    "\n",
    "attr_select_Query = \"select geoid, total_population_2018 from attr_county_full\"\n",
    "x_pop = pd.read_sql_query(attr_select_Query, conn)\n",
    "\n",
    "x_covid_time_pop = x_covid_time.merge(x_pop,\n",
    "                                left_on='geoid', \n",
    "                                right_on='geoid', \n",
    "                                how='left')\n",
    "x_covid_time_pop_test = x_covid_time_pop.loc[x_covid_time_pop['namelsad'] == 'Los Angeles County']\n",
    "x_covid_time_pop_test = x_covid_time_pop_test.drop_duplicates(subset = 'Last_Update')\n",
    "x_covid_time_pop_test['day_count'] = list(range(1,len(x_covid_time_pop_test)+1))\n",
    "\n"
   ]
  },
  {
   "cell_type": "code",
   "execution_count": null,
   "metadata": {},
   "outputs": [],
   "source": [
    "x_covid_time_pop_test"
   ]
  },
  {
   "cell_type": "code",
   "execution_count": null,
   "metadata": {},
   "outputs": [],
   "source": [
    "s_data = [x_covid_time_pop_test.iloc[0][\"total_population_2018\"] - i for i in x_covid_time_pop_test.Confirmed.values]\n",
    "i_data = [i for i in x_covid_time_pop_test.Confirmed.values - x_covid_time_pop_test.Deaths.values - x_covid_time_pop_test.Recovered.values]\n",
    "r_data = [i for i in x_covid_time_pop_test.Deaths.values + x_covid_time_pop_test.Recovered.values]\n",
    "t_data = x_covid_time_pop_test.day_count\n",
    "confirm_data = [i for i in x_covid_time_pop_test.Confirmed.values]\n",
    "\n",
    "y_data = [s_data, i_data, r_data]\n",
    "\n",
    "N = x_covid_time_pop_test.iloc[0][\"total_population_2018\"]\n",
    "inf0 = i_data[0]\n",
    "sus0 = s_data[0]\n",
    "rec0 = r_data[0]\n",
    "\n",
    "popt, pcov = optimize.curve_fit(fit_odeint, t_data, i_data)\n",
    "fitted = fit_odeint(t_data, *popt)\n",
    "fitted_more = fit_odeint(list(range(100)), *popt)\n"
   ]
  },
  {
   "cell_type": "code",
   "execution_count": null,
   "metadata": {},
   "outputs": [],
   "source": [
    "plt.plot(t_data, i_data, 'o')\n",
    "\n",
    "plt.plot(list(range(100)), fitted_more)\n",
    "plt.title(\"Fit of SIR model to \"+ x_covid_time_pop_test.iloc[0][\"namelsad\"] + \" infected cases\")\n",
    "plt.ylabel(\"Population infected\")\n",
    "plt.xlabel(\"Days\")\n",
    "plt.show()\n",
    "print(\"Optimal parameters: beta =\", popt[0], \" and gamma = \", popt[1])\n"
   ]
  },
  {
   "cell_type": "code",
   "execution_count": null,
   "metadata": {},
   "outputs": [],
   "source": []
  }
 ],
 "metadata": {
  "kernelspec": {
   "display_name": "Python 3",
   "language": "python",
   "name": "python3"
  },
  "language_info": {
   "codemirror_mode": {
    "name": "ipython",
    "version": 3
   },
   "file_extension": ".py",
   "mimetype": "text/x-python",
   "name": "python",
   "nbconvert_exporter": "python",
   "pygments_lexer": "ipython3",
   "version": "3.7.3"
  }
 },
 "nbformat": 4,
 "nbformat_minor": 2
}
